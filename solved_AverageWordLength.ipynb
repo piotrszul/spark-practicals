{
 "cells": [
  {
   "cell_type": "markdown",
   "metadata": {},
   "source": [
    "The Average Word Length by First Character Example\n",
    "--------------------------------------------------\n",
    "\n",
    "Write that reads a text input and computes the average lengths of all words that start with each character and displays the results in alphabetical order.\n",
    "\n",
    "Example: \n",
    "\n",
    "    Text: \"ACEMS is awesome\"\n",
    "    \n",
    "Results:\n",
    "    \n",
    "    a = 6\n",
    "    i = 2\n",
    "\n",
    "For this input file the correct output should be: \n",
    "\n",
    "    _ = 5.0\n",
    "    a = 3.98387616898\n",
    "    b = 4.03378640777\n",
    "    c = 7.17567567568\n",
    "    d = 6.14582023884\n",
    "    e = 6.82145782146\n",
    "    f = 5.48642826368\n",
    "    ....\n",
    "\n",
    "_Hints:_ \n",
    "\n",
    "* use `[Ctrl+Enter]` to execute code in a cell.\n",
    "* `addTuple` can be used to add two tuples of integers. \n",
    "* `mapValues` can by used to map values for each key. For example if the value is a tuple that has the sum of all numbers in a set as its first element and the number of items in the set as its second element this expression can be used to calculate the average of the numbers in the set:\n",
    "        \n",
    "        mapValues(lambda (total,count): float(total)/float(count))"
   ]
  },
  {
   "cell_type": "code",
   "execution_count": 5,
   "metadata": {
    "collapsed": false
   },
   "outputs": [],
   "source": [
    "import re\n",
    "\n",
    "def addTuple(t1, t2):\n",
    "    return (t1[0] + t2[0], t1[1] + t2[1])\n",
    "\n",
    "avergeLengthRDD = sc.textFile('spark-data/prince_by_machiavelli.txt') \\\n",
    "    .flatMap(lambda s: re.split('[^A-Za-z_]+', s)) \\\n",
    "    .filter(lambda w:len(w) > 0) \\\n",
    "    .map(lambda w:w.lower()) \\\n",
    "    .map( lambda w: (w[0], (len(w), 1))) \\\n",
    "    .reduceByKey(addTuple) \\\n",
    "    .mapValues(lambda (total,count): float(total)/float(count)) \\\n",
    "    .sortByKey(True)"
   ]
  },
  {
   "cell_type": "code",
   "execution_count": 6,
   "metadata": {
    "collapsed": false
   },
   "outputs": [
    {
     "name": "stdout",
     "output_type": "stream",
     "text": [
      "_ = 5.0\n",
      "a = 3.98387616898\n",
      "b = 4.03378640777\n",
      "c = 7.17567567568\n",
      "d = 6.14582023884\n",
      "e = 6.82145782146\n",
      "f = 5.48642826368\n",
      "g = 6.17741935484\n",
      "h = 3.54229372081\n",
      "i = 3.10601265823\n",
      "j = 5.86842105263\n",
      "k = 4.9674556213\n",
      "l = 5.34412955466\n",
      "m = 5.13793103448\n",
      "n = 4.4922623434\n",
      "o = 3.28647686833\n",
      "p = 6.8757240653\n",
      "q = 7.24\n",
      "r = 6.69153394803\n",
      "s = 5.43253662298\n",
      "t = 3.53619933697\n",
      "u = 5.55172413793\n",
      "v = 6.34277620397\n",
      "w = 4.29334451902\n",
      "x = 3.20689655172\n",
      "y = 3.59302325581\n",
      "z = 6.16666666667\n"
     ]
    }
   ],
   "source": [
    "for letter, avg in avergeLengthRDD.collect():\n",
    "    print \"%s = %s\" % (letter, avg)"
   ]
  },
  {
   "cell_type": "markdown",
   "metadata": {},
   "source": [
    "As a bonus we can use `matplotlib` to visualise the results."
   ]
  },
  {
   "cell_type": "code",
   "execution_count": 7,
   "metadata": {
    "collapsed": false
   },
   "outputs": [
    {
     "name": "stdout",
     "output_type": "stream",
     "text": [
      "Populating the interactive namespace from numpy and matplotlib\n"
     ]
    }
   ],
   "source": [
    "%pylab inline"
   ]
  },
  {
   "cell_type": "code",
   "execution_count": 8,
   "metadata": {
    "collapsed": false
   },
   "outputs": [
    {
     "data": {
      "image/png": "[encoded data removed]",
      "text/plain": [
       "<matplotlib.figure.Figure at 0x1124af3d0>"
      ]
     },
     "metadata": {},
     "output_type": "display_data"
    }
   ],
   "source": [
    "import matplotlib.pyplot as plt\n",
    "keys, values = zip(*avergeLengthRDD.collect())\n",
    "plt.bar(range(len(keys)), values, align='center')\n",
    "plt.xticks(range(len(keys)), keys)\n",
    "plt.show()"
   ]
  }
 ],
 "metadata": {
  "kernelspec": {
   "display_name": "Python 2",
   "language": "python",
   "name": "python2"
  },
  "language_info": {
   "codemirror_mode": {
    "name": "ipython",
    "version": 2
   },
   "file_extension": ".py",
   "mimetype": "text/x-python",
   "name": "python",
   "nbconvert_exporter": "python",
   "pygments_lexer": "ipython2",
   "version": "2.7.11"
  }
 },
 "nbformat": 4,
 "nbformat_minor": 0
}
