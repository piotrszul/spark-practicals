{
 "cells": [
  {
   "cell_type": "markdown",
   "metadata": {},
   "source": [
    "The Average Word Length by First Character Example\n",
    "--------------------------------------------------\n",
    "\n",
    "Write that reads a text input and computes the average lengths of all words that start with each character and displays the results in alphabetical order.\n",
    "\n",
    "Example: \n",
    "\n",
    "    Text: \"ACEMS is awesome\"\n",
    "    \n",
    "Results:\n",
    "    \n",
    "    a = 6\n",
    "    i = 2\n",
    "\n",
    "For this input file the correct output should be: \n",
    "\n",
    "    _ = 5.0\n",
    "    a = 3.98387616898\n",
    "    b = 4.03378640777\n",
    "    c = 7.17567567568\n",
    "    d = 6.14582023884\n",
    "    e = 6.82145782146\n",
    "    f = 5.48642826368\n",
    "    ....\n",
    "\n",
    "_Hints:_ \n",
    "\n",
    "* use `[Ctrl+Enter]` to execute code in a cell.\n",
    "* `addTuple` can be used to add two tuples of integers. \n",
    "* `mapValues` can by used to map values for each key. For example if the value is a tuple that has the sum of all numbers in a set as its first element and the number of items in the set as its second element this expression can be used to calculate the average of the numbers in the set:\n",
    "        \n",
    "        mapValues(lambda (total,count): float(total)/float(count))"
   ]
  },
  {
   "cell_type": "code",
   "execution_count": null,
   "metadata": {
    "collapsed": false
   },
   "outputs": [],
   "source": [
    "import re\n",
    "\n",
    "def addTuple(t1, t2):\n",
    "    return (t1[0] + t2[0], t1[1] + t2[1])\n",
    "\n",
    "avergeLengthRDD = sc.textFile('data/bible.txt') \\\n",
    "    .flatMap(lambda s: re.split('[^A-Za-z_]+', s)) \\\n",
    "    .filter(lambda w:len(w) > 0) \\\n",
    "    .map(lambda w:w.lower()) \n",
    "#\n",
    "#   TODO: complete the code below\n",
    "# "
   ]
  },
  {
   "cell_type": "code",
   "execution_count": null,
   "metadata": {
    "collapsed": false
   },
   "outputs": [],
   "source": [
    "for letter, avg in avergeLengthRDD.collect():\n",
    "    print \"%s = %s\" % (letter, avg)"
   ]
  },
  {
   "cell_type": "markdown",
   "metadata": {},
   "source": [
    "As a bonus we can use `matplotlib` to visualise the results."
   ]
  },
  {
   "cell_type": "code",
   "execution_count": null,
   "metadata": {
    "collapsed": false
   },
   "outputs": [],
   "source": [
    "%pylab inline"
   ]
  },
  {
   "cell_type": "code",
   "execution_count": null,
   "metadata": {
    "collapsed": false
   },
   "outputs": [],
   "source": [
    "import matplotlib.pyplot as plt\n",
    "keys, values = zip(*avergeLengthRDD.collect())\n",
    "plt.bar(range(len(keys)), values, align='center')\n",
    "plt.xticks(range(len(keys)), keys)\n",
    "plt.show()"
   ]
  }
 ],
 "metadata": {
  "kernelspec": {
   "display_name": "Python 2",
   "language": "python",
   "name": "python2"
  },
  "language_info": {
   "codemirror_mode": {
    "name": "ipython",
    "version": 2
   },
   "file_extension": ".py",
   "mimetype": "text/x-python",
   "name": "python",
   "nbconvert_exporter": "python",
   "pygments_lexer": "ipython2",
   "version": "2.7.11"
  }
 },
 "nbformat": 4,
 "nbformat_minor": 0
}
