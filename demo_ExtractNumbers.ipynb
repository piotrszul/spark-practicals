{
 "cells": [
  {
   "cell_type": "markdown",
   "metadata": {},
   "source": [
    "The Extract and add numbers example\n",
    "------------------------------------\n",
    "Extract all the integer numbers from a given text and return the sum of them.\n",
    "\n",
    "E.g. for input:\n",
    "\n",
    "    10 20 50\n",
    "    hello 10 there\n",
    "    it's 11 pm\n",
    "\n",
    "the result should be:\n",
    "\n",
    "    10 + 20  + 50 + 10  + 11 = 101"
   ]
  },
  {
   "cell_type": "code",
   "execution_count": 1,
   "metadata": {
    "collapsed": false
   },
   "outputs": [],
   "source": [
    "import re\n",
    "import operator\n",
    "\n",
    "def is_int(s):\n",
    "    return re.match('^[\\d]+$',s)\n",
    "\n",
    "wordCountRDD = sc.textFile('spark-data/prince_by_machiavelli.txt') \\\n",
    "    .flatMap(lambda s: s.split()) \\\n",
    "    .filter(is_int) \\\n",
    "    .map(int) "
   ]
  },
  {
   "cell_type": "markdown",
   "metadata": {},
   "source": [
    "Preview the current RDD"
   ]
  },
  {
   "cell_type": "code",
   "execution_count": 2,
   "metadata": {
    "collapsed": false
   },
   "outputs": [
    {
     "data": {
      "text/plain": [
       "[2006, 1494, 1512, 1512, 1494, 1499, 1500, 1507, 1508, 1519]"
      ]
     },
     "execution_count": 2,
     "metadata": {},
     "output_type": "execute_result"
    }
   ],
   "source": [
    "wordCountRDD.take(10)"
   ]
  },
  {
   "cell_type": "markdown",
   "metadata": {},
   "source": [
    "Reduce the final result"
   ]
  },
  {
   "cell_type": "code",
   "execution_count": 3,
   "metadata": {
    "collapsed": false
   },
   "outputs": [
    {
     "data": {
      "text/plain": [
       "38144"
      ]
     },
     "execution_count": 3,
     "metadata": {},
     "output_type": "execute_result"
    }
   ],
   "source": [
    "wordCountRDD.reduce(operator.add)"
   ]
  }
 ],
 "metadata": {
  "kernelspec": {
   "display_name": "Python 2",
   "language": "python",
   "name": "python2"
  },
  "language_info": {
   "codemirror_mode": {
    "name": "ipython",
    "version": 2
   },
   "file_extension": ".py",
   "mimetype": "text/x-python",
   "name": "python",
   "nbconvert_exporter": "python",
   "pygments_lexer": "ipython2",
   "version": "2.7.11"
  }
 },
 "nbformat": 4,
 "nbformat_minor": 0
}
