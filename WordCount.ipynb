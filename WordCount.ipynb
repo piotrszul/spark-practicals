{
 "cells": [
  {
   "cell_type": "markdown",
   "metadata": {},
   "source": [
    "The Basic WordCount example\n",
    "----------------------------\n",
    "\n",
    "The code below counts occurences of words in given text file and displays the first 10 entries. \n",
    "The entries in the original code are sorted alfabetically in ascending order so we expect to see entries like:\n",
    "\n",
    "    _bons = 1\n",
    "    a = 783\n",
    "    abandon = 2\n",
    "    abandoned = 2\n",
    "    abandonment = 1\n",
    "    abate = 1\n",
    "    ... \n",
    "    \n",
    "Modify the code below to display top 20 most frequest words orderd in the order of frequency (descending).\n",
    "The correct output should be: \n",
    "\n",
    "    the = 3111\n",
    "    to = 2116\n",
    "    and = 1938\n",
    "    of = 1802\n",
    "    in = 994\n",
    "    ....\n",
    "\n",
    "_Hints:_ \n",
    "\n",
    "* use `[Ctrl+Enter]` to execute code in a cell (you can modify and execute the code in a cell multiple times)\n",
    "* you can use `take(10)` operation to preview an RDD at any statge\n",
    "* `sortByKey()` argument determines whether the order is ascending (`True`) or descending (`False`) \n",
    "* the following expression can be used to reverse a tuple:  `lambda (a,b):  (b,a)`\n"
   ]
  },
  {
   "cell_type": "code",
   "execution_count": null,
   "metadata": {
    "collapsed": false
   },
   "outputs": [],
   "source": [
    "import re\n",
    "wordCountRDD = sc.textFile('spark-data/prince_by_machiavelli.txt') \\\n",
    "    .flatMap(lambda s: re.split('[^A-Za-z_]+', s)) \\\n",
    "    .filter(lambda w:len(w) > 0) \\\n",
    "    .map(lambda w:(w.lower(),1)) \\\n",
    "    .reduceByKey(lambda a,b: a + b) \\\n",
    "    .sortByKey(True) "
   ]
  },
  {
   "cell_type": "markdown",
   "metadata": {},
   "source": [
    "Preview the current RDD"
   ]
  },
  {
   "cell_type": "code",
   "execution_count": null,
   "metadata": {
    "collapsed": false
   },
   "outputs": [],
   "source": [
    "wordCountRDD.take(10)"
   ]
  },
  {
   "cell_type": "markdown",
   "metadata": {},
   "source": [
    "Format the final results"
   ]
  },
  {
   "cell_type": "code",
   "execution_count": null,
   "metadata": {
    "collapsed": false
   },
   "outputs": [],
   "source": [
    "for word, count in wordCountRDD.take(10):\n",
    "    print \"%s = %s\" % (word, count)"
   ]
  },
  {
   "cell_type": "markdown",
   "metadata": {},
   "source": [
    "As a bonus we can use `matplotlib` to visualise the results."
   ]
  },
  {
   "cell_type": "code",
   "execution_count": null,
   "metadata": {
    "collapsed": false
   },
   "outputs": [],
   "source": [
    "%pylab inline"
   ]
  },
  {
   "cell_type": "code",
   "execution_count": null,
   "metadata": {
    "collapsed": false
   },
   "outputs": [],
   "source": [
    "import matplotlib.pyplot as plt\n",
    "data = dict(wordCountRDD.take(10))\n",
    "plt.bar(range(len(data)), data.values(), align='center')\n",
    "plt.xticks(range(len(data)), data.keys())\n",
    "plt.show()"
   ]
  }
 ],
 "metadata": {
  "kernelspec": {
   "display_name": "Python 2",
   "language": "python",
   "name": "python2"
  },
  "language_info": {
   "codemirror_mode": {
    "name": "ipython",
    "version": 2
   },
   "file_extension": ".py",
   "mimetype": "text/x-python",
   "name": "python",
   "nbconvert_exporter": "python",
   "pygments_lexer": "ipython2",
   "version": "2.7.11"
  }
 },
 "nbformat": 4,
 "nbformat_minor": 0
}
